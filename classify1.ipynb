{
  "nbformat": 4,
  "nbformat_minor": 0,
  "metadata": {
    "colab": {
      "name": "classify1.ipynb",
      "provenance": [],
      "private_outputs": true,
      "collapsed_sections": []
    },
    "kernelspec": {
      "name": "python3",
      "display_name": "Python 3"
    },
    "accelerator": "GPU"
  },
  "cells": [
    {
      "cell_type": "markdown",
      "metadata": {
        "id": "L56EDMAEWz2G",
        "colab_type": "text"
      },
      "source": [
        "# Configurar Google Drive"
      ]
    },
    {
      "cell_type": "code",
      "metadata": {
        "id": "o3fDavc2Tm2s",
        "colab_type": "code",
        "colab": {}
      },
      "source": [
        "from google.colab import drive\n",
        "drive.mount('/content/drive')"
      ],
      "execution_count": 0,
      "outputs": []
    },
    {
      "cell_type": "markdown",
      "metadata": {
        "id": "iJgSk9reXC7n",
        "colab_type": "text"
      },
      "source": [
        "# Seleccionar directorio de trabajo"
      ]
    },
    {
      "cell_type": "code",
      "metadata": {
        "id": "hKGJmj15Tz5w",
        "colab_type": "code",
        "colab": {}
      },
      "source": [
        "%cd '/content/drive/My Drive/bot_utec'\n",
        "!pwd\n",
        "!ls "
      ],
      "execution_count": 0,
      "outputs": []
    },
    {
      "cell_type": "markdown",
      "metadata": {
        "id": "c_9iXsUaXJla",
        "colab_type": "text"
      },
      "source": [
        "# Configuración para la clasificación"
      ]
    },
    {
      "cell_type": "code",
      "metadata": {
        "id": "aeiG9X-FF6QO",
        "colab_type": "code",
        "colab": {}
      },
      "source": [
        "%tensorflow_version 1.x\n",
        "import tensorflow as tf\n",
        "import sys\n",
        "import os\n",
        "\n",
        "# Disable tensorflow compilation warnings\n",
        "os.environ['TF_CPP_MIN_LOG_LEVEL']='2'\n",
        "import tensorflow as tf\n",
        "\n",
        "def classify(image_path,image_path2,image_path3,image_path4,image_path5,image_path6,image_path7,image_path8,image_path9,image_path10,image_path11,image_path12,image_path13,image_path14,image_path15):\n",
        "    # Read the image_data\n",
        "    image_data = tf.io.gfile.GFile(image_path, 'rb').read()\n",
        "\n",
        "    # Loads label file, strips off carriage return\n",
        "    label_lines = [line.rstrip() for line in tf.io.gfile.GFile(\"tf_files/retrained_labels.txt\")]\n",
        "    print(label_lines)\n",
        "\n",
        "    # Unpersists graph from file\n",
        "    with tf.io.gfile.GFile(\"tf_files/retrained_graph.pb\", 'rb') as f:\n",
        "        graph_def = tf.compat.v1.GraphDef()\n",
        "        graph_def.ParseFromString(f.read())\n",
        "        _ = tf.import_graph_def(graph_def, name='')\n",
        "\n",
        "    with tf.compat.v1.Session() as sess:\n",
        "        # Feed the image_data as input to the graph and get first prediction\n",
        "        softmax_tensor = sess.graph.get_tensor_by_name('final_result:0')\n",
        "        predictions = sess.run(softmax_tensor, \\\n",
        "                {'DecodeJpeg/contents:0': image_data})\n",
        "        # Sort to show labels of first prediction in order of confidence\n",
        "        top_k = predictions[0].argsort()[-len(predictions[0]):][::-1]\n",
        "\n",
        "        for node_id in top_k:\n",
        "            human_string = label_lines[node_id]\n",
        "            accuracy = predictions[0][node_id]\n",
        "            print('%s (score = %.5f)' % (human_string, accuracy))\n",
        "\n",
        "print(\"Método para la clasificación listo\")"
      ],
      "execution_count": 0,
      "outputs": []
    },
    {
      "cell_type": "markdown",
      "metadata": {
        "id": "MHnZFOmEY9Zh",
        "colab_type": "text"
      },
      "source": [
        "# Clasificacion"
      ]
    },
    {
      "cell_type": "code",
      "metadata": {
        "id": "6btU9ssKZAe9",
        "colab_type": "code",
        "colab": {}
      },
      "source": [
        "\n",
        "image_path = \"test_images/01.jpg\"\n",
        "image_path2= \"test_images/02.jpg\"\n",
        "image_path3= \"test_images/03.jpg\"\n",
        "image_path4= \"test_images/04.jpg\"\n",
        "image_path5= \"test_images/05.jpg\"\n",
        "image_path6= \"test_images/06.jpg\"\n",
        "image_path7= \"test_images/07.jpg\"\n",
        "image_path8= \"test_images/08.jpg\"\n",
        "image_path9= \"test_images/09.jpg\"\n",
        "image_path10= \"test_images/10.jpg\"\n",
        "image_path11= \"test_images/11.jpg\"\n",
        "image_path12= \"test_images/12.jpg\"\n",
        "image_path13= \"test_images/13.jpg\"\n",
        "image_path14= \"test_images/14.jpg\"\n",
        "image_path15= \"test_images/15.jpg\"\n",
        "\n",
        "classify(image_path,image_path2,image_path3,image_path4,image_path5,image_path6,image_path7,image_path8,image_path9,image_path10,image_path11,image_path12,image_path13,image_path14,image_path15)"
      ],
      "execution_count": 0,
      "outputs": []
    }
  ]
}