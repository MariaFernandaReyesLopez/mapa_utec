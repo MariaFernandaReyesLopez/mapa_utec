{
  "nbformat": 4,
  "nbformat_minor": 0,
  "metadata": {
    "colab": {
      "name": "bot_frases.ipynb",
      "provenance": [],
      "private_outputs": true,
      "collapsed_sections": []
    },
    "kernelspec": {
      "name": "python3",
      "display_name": "Python 3"
    },
    "accelerator": "GPU"
  },
  "cells": [
    {
      "cell_type": "markdown",
      "metadata": {
        "id": "w8we7ALIaijJ",
        "colab_type": "text"
      },
      "source": [
        "# Instalar Telegram API"
      ]
    },
    {
      "cell_type": "code",
      "metadata": {
        "id": "i3hv1ms9UfnD",
        "colab_type": "code",
        "colab": {}
      },
      "source": [
        "!pip install python-telegram-bot==5.3.0"
      ],
      "execution_count": 0,
      "outputs": []
    },
    {
      "cell_type": "markdown",
      "metadata": {
        "id": "gfiEyA4Vapc3",
        "colab_type": "text"
      },
      "source": [
        "# Configurar Google Drive"
      ]
    },
    {
      "cell_type": "code",
      "metadata": {
        "id": "ugOLYC2CUnxP",
        "colab_type": "code",
        "colab": {}
      },
      "source": [
        "from google.colab import drive\n",
        "drive.mount('/content/drive')"
      ],
      "execution_count": 0,
      "outputs": []
    },
    {
      "cell_type": "markdown",
      "metadata": {
        "id": "WW56tQsfausE",
        "colab_type": "text"
      },
      "source": [
        "# Seleccionar directorio de trabajo"
      ]
    },
    {
      "cell_type": "code",
      "metadata": {
        "id": "t6i6kueHaxSF",
        "colab_type": "code",
        "colab": {}
      },
      "source": [
        "%cd 'drive/My Drive/bot_utec'\n",
        "!pwd\n",
        "!ls"
      ],
      "execution_count": 0,
      "outputs": []
    },
    {
      "cell_type": "markdown",
      "metadata": {
        "id": "5T45-zcfaz3j",
        "colab_type": "text"
      },
      "source": [
        "# Librerias"
      ]
    },
    {
      "cell_type": "code",
      "metadata": {
        "id": "fmlj-spka6mr",
        "colab_type": "code",
        "colab": {}
      },
      "source": [
        "%tensorflow_version 1.x\n",
        "import tensorflow as tf\n",
        "import sys\n",
        "import os\n",
        "from telegram.ext import Updater, CommandHandler, MessageHandler, Filters\n",
        "import logging\n",
        "\n",
        "print(\"Librerías importadas correctamente\")"
      ],
      "execution_count": 0,
      "outputs": []
    },
    {
      "cell_type": "markdown",
      "metadata": {
        "id": "E-eMoturbM_l",
        "colab_type": "text"
      },
      "source": [
        "# Classify"
      ]
    },
    {
      "cell_type": "code",
      "metadata": {
        "id": "OhGVWhyabO0t",
        "colab_type": "code",
        "colab": {}
      },
      "source": [
        "def classify(image_path):\n",
        "    # Read the image_data\n",
        "    image_data = tf.io.gfile.GFile(image_path, 'rb').read()\n",
        "\n",
        "    # Loads label file, strips off carriage return\n",
        "    label_lines = [line.rstrip() for line in tf.io.gfile.GFile(\"tf_files/retrained_labels.txt\")]\n",
        "\n",
        "    # Unpersists graph from file\n",
        "    with tf.io.gfile.GFile(\"tf_files/retrained_graph.pb\", 'rb') as f:\n",
        "        graph_def = tf.compat.v1.GraphDef()\n",
        "        graph_def.ParseFromString(f.read())\n",
        "        _ = tf.import_graph_def(graph_def, name='')\n",
        "\n",
        "    with tf.compat.v1.Session() as sess:\n",
        "        # Feed the image_data as input to the graph and get first prediction\n",
        "        softmax_tensor = sess.graph.get_tensor_by_name('final_result:0')\n",
        "        \n",
        "        predictions = sess.run(softmax_tensor, \\\n",
        "                {'DecodeJpeg/contents:0': image_data})\n",
        "        \n",
        "        # Sort to show labels of first prediction in order of confidence\n",
        "        top_k = predictions[0].argsort()[-len(predictions[0]):][::-1]\n",
        "        \n",
        "        result = None\n",
        "        a=sorted(predictions[0], reverse=True)\n",
        "        print(a)\n",
        "        print(a[0])\n",
        "        for node_id in top_k:\n",
        "            human_string = label_lines[node_id]\n",
        "            accuracy = predictions[0][node_id]\n",
        "            \n",
        "            print('%s (score = %.5f)' % (human_string, accuracy))\n",
        "            if accuracy == a[0]:\n",
        "              if accuracy>=0.3:\n",
        "                result = human_string\n",
        "                if result==\"edificioa\":\n",
        "                  result=\"En este momento te encuentras cerca del edificio A,ahi podras hacer diferentes tramites escolares,ademas ahi esta rectoria\"\n",
        "                elif result==\"edificiob\":\n",
        "                  result=\"En este momento te encuentras cerca del edificio B,de hecho estas muy cerca del edificio C y por supuesto de la entrada\"\n",
        "                elif result==\"edificioc\":\n",
        "                  result=\"En este momento te encuentras cerca del edificio C,deberias entrar es un lugar genial\"\n",
        "                elif result==\"edificiod\":\n",
        "                  result=\"En este momento te encuentras cerca del edificio D, tambien lo llaman aula modular, se ocupa a veces para talleres o cuando llegan a dar conferencias\"\n",
        "                elif result==\"edificiof\":\n",
        "                  result=\"En este momento te encuentras cerca del edificio F, ahi se encuentran alumnos de mecatronica o carreras a fin\"\n",
        "                elif result==\"edificiog\":\n",
        "                  result=\"En este momento te encuentras cerca del edificio G, ¡Genial!, ven visitanos, mis creadores se encuentran ahi,¡deberias saludarlos!\"\n",
        "                elif result==\"edificioh\":\n",
        "                  result=\"En este momento te encuentras cerca del edificio H,aqui podras hacer diferentes movimientos relacionados con talleres, te interesa Radio, ¿porque no preguntas?\"\n",
        "                elif result==\"edificioi\":\n",
        "                  result=\"En este momento te encuentras cerca del edificio I,ahi esta la carrera de salud reproductiva, ademas de que es la Biblioteca, pasa a leer un buen libro\"\n",
        "                elif result==\"edificioj\":\n",
        "                  result=\"En este momento te encuentras cerca del edificio J,quizas estes buscando a alguien de enfermeria o terapia fisica porque ahi se encuentran, si quieres ir a rectoria, estas muy cerca\"\n",
        "                elif result==\"estacionamientoj\":\n",
        "                  result=\"En este momento te encuentras cerca del estacionamiento que esta a un lado del Edificio J,ademas estas muy cerca de rectoria,cualquier duda visita el edificio A\"\n",
        "                elif result== \"estacionamientocafeteria\":\n",
        "                  result=\"En este momento te encuentras cerca del estacionamiento que esta frente a la cafeteria,estas muy cerca de la entrada de la escuela,tambien del edificio B y del C\"\n",
        "                elif result==\"explanada\":\n",
        "                  result=\"En este momento te encuentras enfrente del edificio G, en ese edificio estan mis creadores, ¡DEBERIAS VISITARLOS!, ademas a lado esta el area de hacer ejercicio, es muy tranquilo, porque no te sientas un rato\"\n",
        "                elif result==\"areadeejercicio\":\n",
        "                  result=\"Ah mira esa es el area de ejercicio, pero muchos estudiantes solo la usan para pasar un momento tranquilo, a mi me agrada\"\n",
        "                elif result== \"cafeteria\":\n",
        "                  result=\"¿tienes hambre?, esa es la cafeteria de la escuela, deberias visitarla\"\n",
        "                elif result==\"canchas\":\n",
        "                  result=\"En este momento te encuentras cerca del estacionamiento que esta a un lado del Edificio J, eso que miras son las canchas, se usan para los talleres de futbol, o simplemente para pasar el rato\"\n",
        "                indicator=1\n",
        "                break\n",
        "              else:\n",
        "                result= \"Lo siento, a veces soy algo torpe, no reconozco muy bien tu foto, ¿serias tan amable de introducir otra?\" \n",
        "    return result\n",
        "\n",
        "print(\"Método para clasificar creado correctamente\")"
      ],
      "execution_count": 0,
      "outputs": []
    },
    {
      "cell_type": "markdown",
      "metadata": {
        "id": "UKAT7_6nYQw0",
        "colab_type": "text"
      },
      "source": [
        "# Token de telegram"
      ]
    },
    {
      "cell_type": "code",
      "metadata": {
        "id": "Ap9-21lDYTPb",
        "colab_type": "code",
        "colab": {}
      },
      "source": [
        "# ClassifyImagesBot\n",
        "token = '' \n",
        "\n",
        "print(\"token registrado\")"
      ],
      "execution_count": 0,
      "outputs": []
    },
    {
      "cell_type": "markdown",
      "metadata": {
        "id": "BGswDhxLc5Cw",
        "colab_type": "text"
      },
      "source": [
        "# Configuración del bot"
      ]
    },
    {
      "cell_type": "code",
      "metadata": {
        "id": "YU0S7GypUXAf",
        "colab_type": "code",
        "colab": {}
      },
      "source": [
        "# Enable logging\n",
        "try:\n",
        "    logging.basicConfig(\n",
        "        format='%(asctime)s - %(name)s - %(levelname)s - %(message)s', level=logging.INFO)\n",
        "    logger = logging.getLogger(__name__)\n",
        "except Exception as e:\n",
        "    print(\"Error logging {}\".format(e.args))\n",
        "\n",
        "def start(bot, update):\n",
        "    try:\n",
        "        username = update.message.from_user.username\n",
        "        message = \"Hello \" + username\n",
        "        update.message.reply_text(message)\n",
        "    except Exception as e:\n",
        "        print(\"Error start {}\".format(e.args))\n",
        "\n",
        "\n",
        "def help(bot, update):\n",
        "    try:\n",
        "        username = update.message.from_user.username\n",
        "        update.message.reply_text('Hello {}, please send a image for classify'.format(username))\n",
        "    except Exception as e:\n",
        "        print(\"Error help {}\".format(e.args))\n",
        "\n",
        "def analize(bot, update):\n",
        "    try:\n",
        "        message = \"Receiving image...\"\n",
        "        update.message.reply_text(message)\n",
        "        print(message)\n",
        "        \n",
        "        photo_file = bot.getFile(update.message.photo[-1].file_id)\n",
        "        id_user = update.message.from_user.id\n",
        "        id_file = photo_file.file_id\n",
        "        id_analisis = str(id_user) + \"-\" + str(id_file)\n",
        "        \n",
        "        filename = os.path.join('downloads/', '{}.jpg'.format(id_analisis))\n",
        "        photo_file.download(filename)\n",
        "        message = \"Image received, analyzing, please wait a few seconds\"\n",
        "        update.message.reply_text(message)\n",
        "        print(message)\n",
        "        \n",
        "        result = classify(filename)\n",
        "        print(result)\n",
        "        update.message.reply_text(result)\n",
        "        print(\"Waiting image..\")\n",
        "    except Exception as e:\n",
        "        print(\"Error analize {}\".format(e.args))\n",
        "\n",
        "text_usuar=[]\n",
        "text_bot=[]\n",
        "def echo(bot, update):\n",
        "    try:\n",
        "        \n",
        "        texto=update.message.text\n",
        "        usuario=update.message.from_user['first_name']\n",
        "        \n",
        "        print(texto)\n",
        "\n",
        "        if \"hola\" in texto or \"HOLA\" in texto or \"Hola\" in texto or \"hOLA\" in texto or \"hola\" in texto or \"HOLA\" in texto or \"Hola\" in texto or \"hOLA\" in texto:\n",
        "          regreso=\"Hola ¿como estas?,¿necesitas algo?\"\n",
        "        elif texto==\"Brenda\" or texto==\"BRENDA\" or texto==\"Brenda\" or texto==\"bRENDA\" or \"quien eres\" in texto or \"Quien eres\" in texto:\n",
        "          regreso=\"¡BRENDA!...esa soy yo, tu amiga y ayudante...Hola ¿como estas?,¿necesitas algo?\"\n",
        "        elif \"como\" in texto or \"Como\" in texto or \"COMO\" in texto or \"cOMO\" in texto:\n",
        "          if \"estas\" in texto or \"Estas\" in texto or \"eSTAS\" in texto or \"ESTAS\" in texto:\n",
        "            regreso=\"¿YO? AMM Excelente ¿que tal tu?\"\n",
        "          elif \"llego\" in texto or \"Llego\" in texto or \"lLEGO\" in texto or \"LLEGO\" in texto:\n",
        "            regreso=\"ok, creo poder ayudarte, toma una foto de tu alrededor\"\n",
        "        elif \"bien\" in texto or \"Bien\" in texto or \"BIEN\" in texto or \"bIEN\" in texto:\n",
        "          if \"estoy\" in texto or \"me\" in texto or \"encuentro\" in texto or \"Estoy\" in texto or \"eSTOY\" in texto or \"ESTOY\" in texto or \"ME\" in texto or \"Me\" in texto or \"mE\" in texto or \"ENCUENTRO\" in texto or \"eNCUENTRO\" in texto or \"Encuentro\" in texto:\n",
        "            regreso=\"me alegro muchisimo de que te encuentres bien, dime como puedo ayudarte\"\n",
        "        elif \"donde estoy\" in texto or \"Donde estoy\" in texto or \"donde\" in texto or \"Donde\"  in texto or \"dónde\" in texto or \"Dónde\" in texto:\n",
        "          regreso=\"amm porfavor toma una foto, necesito ver que hay a tu alrededor\"\n",
        "        elif \"estoy\" in texto or \"ESTOY\" in texto or \"Estoy\" in texto or \"eSTOY\" in texto:\n",
        "          regreso=\"creo que podria a ayudarte a saber donde estas, toma una foto de tu alrededor\"\n",
        "        elif \"ubicacion\" in texto or \"UBICACION\" in texto or \"uBICACION\" in texto or \"Ubicacion\" in texto:\n",
        "          regreso=\"ok puedo ayudarte, pero toma una foto de tu alrededor para que te diga donde estas\"\n",
        "        elif \"necesito\" in texto or \"Necesito\" in texto or \"NECESITO\" in texto or \"nECESITO\" in texto:\n",
        "          if \"ubicacion\" in texto or \"UBICACION\" in texto or \"uBICACION\" in texto or \"Ubicacion\" in texto:\n",
        "            regreso=\"ok puedo ayudarte, pero toma una foto de tu alrededor para que te diga donde estas\"\n",
        "          elif \"encontrar\" in texto or \"eNCONTRAR\" in texto or \"Encontrar\" in texto or \"ENCONTRAR\" in texto:\n",
        "            regreso=\"ok puedo ayudarte a saber donde estas, pero toma una foto de tu alrededor para que te diga tu ubicacion\"\n",
        "          elif \"donde\" in texto or \"Donde\" in texto or \"DONDE\" in texto or \"estoy\" in texto or \"ESTOY\" in texto or \"Estoy\" in texto:\n",
        "            regreso=\"ok puedo ayudarte a saber donde estas, pero toma una foto de tu alrededor para que te diga tu ubicacion\" \n",
        "          else:\n",
        "            regreso=\"ok creo comprender, bueno mi funcion es decirte donde estas asi que, puedes tomar una fotografia\"\n",
        "        elif \"quiero\" in texto or \"Quiero\" in texto or \"QUIERO\" in texto or \"qUIERO\" in texto:\n",
        "            if \"ir\" in texto or \"iR\" in texto or \"Ir\" in texto  or \"IR\" in texto:\n",
        "              if \"edificioa\" in texto or \"edificioA\" in texto or \"edificio a\" in texto or \"edificio A\" in texto or \"EDIFICIOa \" in texto or \"EDIFICIOA\" in texto or \"EDIFICIO a\" in texto or \"EDIFICIO A\" in texto or \"Edificioa\" in texto or \"EdificioA\" in texto or \"Edificio a\" in texto or \"Edificio A\" in texto:\n",
        "                regreso=\"OK ,mmm dejame pensar, en este momento no estoy muy familiarizada pero mas adelante te ayudare\"\n",
        "        elif (texto==\"claro\" or texto==\"Claro\" or texto==\"CLARO\" or texto==\"cLARO\") and (text_bot[0]==\"Hola ¿como estas?,¿necesitas algo?\"):\n",
        "          regreso=\"De acuerdo,dime ¿en que puedo ayudarte?\"\n",
        "        else:\n",
        "            regreso=\"no entendi bien ,¿que necesitas?\"\n",
        "\n",
        "\n",
        "        \n",
        "        update.message.reply_text(regreso)\n",
        "        if(len(text_usuar)==0):\n",
        "          text_usuar.append(texto)\n",
        "          text_bot.append(regreso)   \n",
        "        elif(len(text_usuar)==1):\n",
        "          text_usuar.append(texto)\n",
        "          text_usuar.pop(0)\n",
        "          text_bot.append(regreso)\n",
        "          text_bot.pop(0)\n",
        "        print(text_usuar)\n",
        "        print(text_bot)\n",
        "        print(update.message.from_user['first_name'])\n",
        "        print(\"Receiving text...\")\n",
        "        print(\"Waiting for another test...\")\n",
        "    except Exception as e:\n",
        "        print(\"Error echo {}\".format(e.args))\n",
        "\n",
        "def error(bot, update, error):\n",
        "    try:\n",
        "        logger.warn('Update \"%s\" caused error \"%s\"' % (update, error))\n",
        "    except Exception as e:\n",
        "        print(\"Error error {}\".format(e.args))\n",
        "\n",
        "def main():\n",
        "    try:\n",
        "        print('ClassifyImagesBot init token')\n",
        "\n",
        "        updater = Updater(token)\n",
        "        # Get the dispatcher to register handlers\n",
        "        dp = updater.dispatcher\n",
        "\n",
        "        print('ClassifyImagesBot init dispatcher')\n",
        "\n",
        "\n",
        "        # on different commands - answer in Telegram\n",
        "        dp.add_handler(CommandHandler(\"start\", start))\n",
        "        dp.add_handler(CommandHandler(\"help\", help))\n",
        "\n",
        "        # on noncommand detect the document type on Telegram\n",
        "        dp.add_handler(MessageHandler(Filters.text, echo))\n",
        "        dp.add_handler(MessageHandler(Filters.photo, analize))\n",
        "\n",
        "        # log all errors\n",
        "        dp.add_error_handler(error)\n",
        "\n",
        "        # Start the Bot\n",
        "        updater.start_polling()\n",
        "        print('ClassifyImagesBot ready')\n",
        "        updater.idle()\n",
        "    except Exception as e:\n",
        "        print(\"Error main {}\".format(e.message))\n",
        "\n",
        "print(\"Bot configurado correctamente\")\n"
      ],
      "execution_count": 0,
      "outputs": []
    },
    {
      "cell_type": "markdown",
      "metadata": {
        "id": "Ma-aIv87cSfQ",
        "colab_type": "text"
      },
      "source": [
        "# Ejecutar el Bot"
      ]
    },
    {
      "cell_type": "code",
      "metadata": {
        "id": "fvhxaGsTcWEp",
        "colab_type": "code",
        "colab": {}
      },
      "source": [
        "if __name__ == '__main__':\n",
        "    try:\n",
        "        main()\n",
        "    except Exception as e:\n",
        "        print(\"Error name: {}\".format(e.args))"
      ],
      "execution_count": 0,
      "outputs": []
    }
  ]
}